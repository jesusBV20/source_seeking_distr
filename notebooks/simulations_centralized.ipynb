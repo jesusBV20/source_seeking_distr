{
 "cells": [
  {
   "cell_type": "code",
   "execution_count": null,
   "metadata": {},
   "outputs": [],
   "source": [
    "\"\"\"\\\n",
    "# Jesús Bautista Villar <jesbauti20@gmail.com>\n",
    "- Source seeking simulations (centralized computing) -\n",
    "\"\"\""
   ]
  },
  {
   "cell_type": "code",
   "execution_count": null,
   "metadata": {},
   "outputs": [],
   "source": [
    "# If executed from Google Colab --------------------------------------------------------\n",
    "# !git clone link_to_the_repo\n",
    "# !rsync -a source_seeking_distr/ .\n",
    "# !rm -r source_seeking_distr\n",
    "\n",
    "# If you want to use latex with matplotlib ---------------------------------------------\n",
    "# !apt install -y texlive texlive-latex-extra texlive-fonts-recommended dvipng cm-super\n",
    "# !pip install -y latex"
   ]
  },
  {
   "cell_type": "code",
   "execution_count": null,
   "metadata": {},
   "outputs": [],
   "source": [
    "# Import standard libraries\n",
    "import os\n",
    "import random\n",
    "\n",
    "# Third-Party Libraries\n",
    "import numpy as np\n",
    "from tqdm import tqdm\n",
    "import matplotlib.pyplot as plt\n",
    "\n",
    "from IPython.display import HTML\n",
    "from matplotlib.animation import PillowWriter\n",
    "\n",
    "# -------------------------------------------------------------------------------------\n",
    "# Import from the Swarm Systems Lab Simulator\n",
    "\n",
    "# Tell matplotlib to use latex\n",
    "from ssl_simulator.visualization import set_paper_parameters\n",
    "set_paper_parameters(fontsize=15)\n",
    "\n",
    "# Main utility functions used along the notebook\n",
    "from ssl_simulator import SimulationEngine, create_dir, load_sim, add_src_to_path\n",
    "from ssl_simulator.math import XY_distrib, gen_Z_random, gen_Z_split\n",
    "from ssl_simulator.robot_models import SingleIntegrator, Unicycle2D\n",
    "\n",
    "from ssl_simulator.components.scalar_fields import SigmaGauss, SigmaNonconvex, SigmaFract\n",
    "from ssl_simulator.components.network import Graph\n",
    "\n",
    "# -------------------------------------------------------------------------------------\n",
    "# Import custom functions and classes (src in path is requiered)\n",
    "add_src_to_path()\n",
    "\n",
    "from sim_core.controllers import SourceSeekingSI, SourceSeekingUny\n",
    "from sim_core.visualization import PlotterSimBasicSI, PlotterSimBasicUny, PlotterSimData2Uny\n",
    "\n",
    "# -------------------------------------------------------------------------------------\n",
    "# Define constants for file paths\n",
    "OUTPUT_DIR = os.path.join(\"..\", \"output\")\n",
    "SIMDATA_FILE1 = os.path.join(OUTPUT_DIR, \"data1.csv\")\n",
    "SIMDATA_FILE2 = os.path.join(OUTPUT_DIR, \"data2.csv\")\n",
    "SIMDATA_FILE_GAME = os.path.join(OUTPUT_DIR, \"data_game.csv\")\n",
    "create_dir(OUTPUT_DIR)"
   ]
  },
  {
   "cell_type": "markdown",
   "metadata": {},
   "source": [
    "# Single integrator dynamics"
   ]
  },
  {
   "cell_type": "code",
   "execution_count": null,
   "metadata": {},
   "outputs": [],
   "source": [
    "# ---- SI simulation (setup)\n",
    "\n",
    "# Define the initial state\n",
    "N = 50\n",
    "\n",
    "pc = np.array([-45,-50])\n",
    "p = XY_distrib(N, pc, np.array([2,7]))\n",
    "x0 = [p]\n",
    "\n",
    "# Define the graph (Z doesn't matter in centralized)\n",
    "Z = gen_Z_split(N, 1, int(N**(1.98)))\n",
    "graph = Graph(N, Z)\n",
    "\n",
    "# Define the scalar field\n",
    "k, mu, dev = 0.04, [40,40], 10\n",
    "scalar_field = SigmaNonconvex(k=k, dev=dev, mu=mu)\n",
    "\n",
    "# Controller settings\n",
    "speed = 15"
   ]
  },
  {
   "cell_type": "code",
   "execution_count": null,
   "metadata": {},
   "outputs": [],
   "source": [
    "# ---- SI simulation (run)\n",
    "\n",
    "# Select and initialize the robot model and the controller\n",
    "robot_model = SingleIntegrator(x0)\n",
    "\n",
    "# Initialize the controller\n",
    "controller = SourceSeekingSI(scalar_field=scalar_field, graph=graph, speed=speed)\n",
    "\n",
    "# Then, construct the Simulator Engine\n",
    "dt = 0.01\n",
    "simulator = SimulationEngine(robot_model, controller, time_step=dt, log_filename=SIMDATA_FILE1)\n",
    "\n",
    "# --------------------------------\n",
    "# Run the simulation and save data\n",
    "tf = 12\n",
    "dt_sim = 0.5\n",
    "\n",
    "rounds = 0\n",
    "for it in np.arange(12/0.5): # TODO: better way of killing angents, just one round\n",
    "    simulator.run(dt_sim)\n",
    "    graph.kill_agents(random.choice(range(N)))\n",
    "\n",
    "# simulator.run(tf)\n",
    "# --------------------------------"
   ]
  },
  {
   "cell_type": "code",
   "execution_count": null,
   "metadata": {},
   "outputs": [],
   "source": [
    "# ---- SI simulation (plot)\n",
    "\n",
    "# Load previously saved simulation data from the specified file\n",
    "simulation_data, settings = load_sim(SIMDATA_FILE1, debug=True)\n",
    "\n",
    "# Initialize the plotter with the loaded simulation data\n",
    "plotter = PlotterSimBasicSI(simulation_data, settings, \n",
    "                         dpi=150, figsize=(6,5), xlims=[-50,80], ylims=[-60,70])\n",
    "\n",
    "# Generate and display the plot\n",
    "ax = plotter.draw(alpha=1, num_patches=6)\n",
    "\n",
    "plt.show()"
   ]
  },
  {
   "cell_type": "markdown",
   "metadata": {},
   "source": [
    "# Unicycle dynamics"
   ]
  },
  {
   "cell_type": "markdown",
   "metadata": {},
   "source": [
    "## Static source (basic simulation just for testing)"
   ]
  },
  {
   "cell_type": "code",
   "execution_count": null,
   "metadata": {},
   "outputs": [],
   "source": [
    "# ---- SI simulation (setup)\n",
    "\n",
    "# Define the initial state\n",
    "N = 20\n",
    "\n",
    "pc, lims = np.array([60,60]), np.array([12,2])\n",
    "p = XY_distrib(N, pc, lims)\n",
    "speed = np.ones(N) * 6\n",
    "theta = np.random.rand(N) * np.pi\n",
    "\n",
    "x0 = [p, speed, theta]\n",
    "\n",
    "# Define the graph (Z doesn't matter in centralized)\n",
    "Z = gen_Z_random(N, rounds=3)\n",
    "graph = Graph(N, Z)\n",
    "\n",
    "# Define the scalar field\n",
    "k, mu, dev = 0.04, [-40,-40], 10\n",
    "scalar_field = SigmaNonconvex(k=k, dev=dev, mu=mu, a=[1,0], b=[0,1])\n",
    "\n",
    "# Controller settings\n",
    "kd = 1"
   ]
  },
  {
   "cell_type": "code",
   "execution_count": null,
   "metadata": {},
   "outputs": [],
   "source": [
    "# ---- SI simulation (run)\n",
    "\n",
    "# Select and initialize the robot model and the controller\n",
    "robot_model = Unicycle2D(x0, omega_lims=[-1,1])\n",
    "\n",
    "# Initialize the controller\n",
    "controller = SourceSeekingUny(scalar_field=scalar_field, graph=graph, kd=kd)\n",
    "\n",
    "# Then, construct the Simulator Engine\n",
    "dt = 0.01\n",
    "simulator = SimulationEngine(robot_model, controller, time_step=dt, log_filename=SIMDATA_FILE2)\n",
    "\n",
    "# --------------------------------\n",
    "# Run the simulation and save data\n",
    "tf = 40\n",
    "\n",
    "simulator.run(tf, eta=True)\n",
    "# --------------------------------"
   ]
  },
  {
   "cell_type": "code",
   "execution_count": null,
   "metadata": {},
   "outputs": [],
   "source": [
    "# ---- SI simulation (plot)\n",
    "\n",
    "# Load previously saved simulation data from the specified file\n",
    "simulation_data, settings = load_sim(SIMDATA_FILE2, debug=True)\n",
    "\n",
    "# Initialize the plotter with the loaded simulation data\n",
    "plotter = PlotterSimBasicUny(simulation_data, settings, \n",
    "                         dpi=150, figsize=(6,5), xlims=[-70,80], ylims=[-60,80],\n",
    "                         size=1.5)\n",
    "\n",
    "# Generate and display the plot\n",
    "ax = plotter.draw(alpha=1, num_patches=2, lw=0.1)\n",
    "\n",
    "plt.show()"
   ]
  },
  {
   "cell_type": "markdown",
   "metadata": {},
   "source": [
    "## Moving source"
   ]
  },
  {
   "cell_type": "code",
   "execution_count": null,
   "metadata": {},
   "outputs": [],
   "source": [
    "# ---- SI simulation (plot)\n",
    "\n",
    "# Load previously saved simulation data from the specified file\n",
    "simulation_data, settings = load_sim(SIMDATA_FILE_GAME, debug=False)\n",
    "\n",
    "# Initialize the plotter with the loaded simulation data\n",
    "plotter = PlotterSimData2Uny(simulation_data, settings, \n",
    "                         dpi=100, figsize=(8.7,7), xlims=[-130,140], ylims=[-105,110])\n",
    "\n",
    "# Generate and display the plot\n",
    "ax = plotter.draw(t_list=[0,10,20,30])\n",
    "\n",
    "plt.show()"
   ]
  }
 ],
 "metadata": {
  "kernelspec": {
   "display_name": "Python 3",
   "language": "python",
   "name": "python3"
  },
  "language_info": {
   "codemirror_mode": {
    "name": "ipython",
    "version": 3
   },
   "file_extension": ".py",
   "mimetype": "text/x-python",
   "name": "python",
   "nbconvert_exporter": "python",
   "pygments_lexer": "ipython3",
   "version": "3.10.12"
  }
 },
 "nbformat": 4,
 "nbformat_minor": 2
}
